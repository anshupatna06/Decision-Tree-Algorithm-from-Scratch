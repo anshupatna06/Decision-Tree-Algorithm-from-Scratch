{
 "cells": [
  {
   "cell_type": "markdown",
   "id": "a9768901-3a28-471d-8796-fe018695db49",
   "metadata": {},
   "source": [
    "## Decision Tree 🌴 from scratch with full \"explanation and logic\" (at the bottom⬇️⬇️⬇️⬇️⬇️)"
   ]
  },
  {
   "cell_type": "code",
   "execution_count": 31,
   "id": "0505daf3-fb1c-4d29-aca3-b4fd8f6ffdff",
   "metadata": {},
   "outputs": [],
   "source": [
    "## Import important librarires\n",
    "import pandas as pd\n",
    "import numpy as np"
   ]
  },
  {
   "cell_type": "code",
   "execution_count": 32,
   "id": "1daee512-83fc-4df9-ba57-84d3cf9eab04",
   "metadata": {},
   "outputs": [
    {
     "data": {
      "text/html": [
       "<div>\n",
       "<style scoped>\n",
       "    .dataframe tbody tr th:only-of-type {\n",
       "        vertical-align: middle;\n",
       "    }\n",
       "\n",
       "    .dataframe tbody tr th {\n",
       "        vertical-align: top;\n",
       "    }\n",
       "\n",
       "    .dataframe thead th {\n",
       "        text-align: right;\n",
       "    }\n",
       "</style>\n",
       "<table border=\"1\" class=\"dataframe\">\n",
       "  <thead>\n",
       "    <tr style=\"text-align: right;\">\n",
       "      <th></th>\n",
       "      <th>PassengerId</th>\n",
       "      <th>Survived</th>\n",
       "      <th>Pclass</th>\n",
       "      <th>Sex</th>\n",
       "      <th>Age</th>\n",
       "      <th>SibSp</th>\n",
       "      <th>Parch</th>\n",
       "      <th>Fare</th>\n",
       "      <th>Embarked</th>\n",
       "    </tr>\n",
       "  </thead>\n",
       "  <tbody>\n",
       "    <tr>\n",
       "      <th>0</th>\n",
       "      <td>1</td>\n",
       "      <td>0</td>\n",
       "      <td>3</td>\n",
       "      <td>Male</td>\n",
       "      <td>22.0</td>\n",
       "      <td>1</td>\n",
       "      <td>0</td>\n",
       "      <td>7.2500</td>\n",
       "      <td>3</td>\n",
       "    </tr>\n",
       "    <tr>\n",
       "      <th>1</th>\n",
       "      <td>2</td>\n",
       "      <td>1</td>\n",
       "      <td>1</td>\n",
       "      <td>female</td>\n",
       "      <td>38.0</td>\n",
       "      <td>1</td>\n",
       "      <td>0</td>\n",
       "      <td>71.2833</td>\n",
       "      <td>1</td>\n",
       "    </tr>\n",
       "    <tr>\n",
       "      <th>2</th>\n",
       "      <td>3</td>\n",
       "      <td>1</td>\n",
       "      <td>3</td>\n",
       "      <td>female</td>\n",
       "      <td>26.0</td>\n",
       "      <td>0</td>\n",
       "      <td>0</td>\n",
       "      <td>7.9250</td>\n",
       "      <td>3</td>\n",
       "    </tr>\n",
       "    <tr>\n",
       "      <th>3</th>\n",
       "      <td>4</td>\n",
       "      <td>1</td>\n",
       "      <td>1</td>\n",
       "      <td>female</td>\n",
       "      <td>35.0</td>\n",
       "      <td>1</td>\n",
       "      <td>0</td>\n",
       "      <td>53.1000</td>\n",
       "      <td>3</td>\n",
       "    </tr>\n",
       "    <tr>\n",
       "      <th>4</th>\n",
       "      <td>5</td>\n",
       "      <td>0</td>\n",
       "      <td>3</td>\n",
       "      <td>Male</td>\n",
       "      <td>35.0</td>\n",
       "      <td>0</td>\n",
       "      <td>0</td>\n",
       "      <td>8.0500</td>\n",
       "      <td>3</td>\n",
       "    </tr>\n",
       "  </tbody>\n",
       "</table>\n",
       "</div>"
      ],
      "text/plain": [
       "   PassengerId  Survived  Pclass     Sex   Age  SibSp  Parch     Fare  \\\n",
       "0            1         0       3    Male  22.0      1      0   7.2500   \n",
       "1            2         1       1  female  38.0      1      0  71.2833   \n",
       "2            3         1       3  female  26.0      0      0   7.9250   \n",
       "3            4         1       1  female  35.0      1      0  53.1000   \n",
       "4            5         0       3    Male  35.0      0      0   8.0500   \n",
       "\n",
       "   Embarked  \n",
       "0         3  \n",
       "1         1  \n",
       "2         3  \n",
       "3         3  \n",
       "4         3  "
      ]
     },
     "execution_count": 32,
     "metadata": {},
     "output_type": "execute_result"
    }
   ],
   "source": [
    "## Load the dataset\n",
    "df=pd.read_csv(r\"C:\\Users\\ASUS\\Desktop\\cleaned_DataAnalysis\\SVMtrain.csv\")\n",
    "df.head()"
   ]
  },
  {
   "cell_type": "code",
   "execution_count": 33,
   "id": "2e76a38b-fca0-4a75-9f49-a0b30986616b",
   "metadata": {},
   "outputs": [
    {
     "data": {
      "text/plain": [
       "PassengerId    0\n",
       "Survived       0\n",
       "Pclass         0\n",
       "Sex            0\n",
       "Age            0\n",
       "SibSp          0\n",
       "Parch          0\n",
       "Fare           0\n",
       "Embarked       0\n",
       "dtype: int64"
      ]
     },
     "execution_count": 33,
     "metadata": {},
     "output_type": "execute_result"
    }
   ],
   "source": [
    "## Check if there is null values in the dataset\n",
    "df.isnull().sum()"
   ]
  },
  {
   "cell_type": "code",
   "execution_count": 34,
   "id": "1430d8cc-e583-4179-8f05-b816ec68b763",
   "metadata": {},
   "outputs": [],
   "source": [
    "## Select relevant features and drop rows with missing values\n",
    "df=df[['Survived','Pclass','Sex','Age','Fare','Embarked']].dropna()"
   ]
  },
  {
   "cell_type": "code",
   "execution_count": 35,
   "id": "b8dec10a-7c0a-468f-ba46-9ebe096420ee",
   "metadata": {},
   "outputs": [
    {
     "data": {
      "text/html": [
       "<div>\n",
       "<style scoped>\n",
       "    .dataframe tbody tr th:only-of-type {\n",
       "        vertical-align: middle;\n",
       "    }\n",
       "\n",
       "    .dataframe tbody tr th {\n",
       "        vertical-align: top;\n",
       "    }\n",
       "\n",
       "    .dataframe thead th {\n",
       "        text-align: right;\n",
       "    }\n",
       "</style>\n",
       "<table border=\"1\" class=\"dataframe\">\n",
       "  <thead>\n",
       "    <tr style=\"text-align: right;\">\n",
       "      <th></th>\n",
       "      <th>Survived</th>\n",
       "      <th>Pclass</th>\n",
       "      <th>Sex</th>\n",
       "      <th>Age</th>\n",
       "      <th>Fare</th>\n",
       "      <th>Embarked</th>\n",
       "    </tr>\n",
       "  </thead>\n",
       "  <tbody>\n",
       "    <tr>\n",
       "      <th>0</th>\n",
       "      <td>0</td>\n",
       "      <td>3</td>\n",
       "      <td>Male</td>\n",
       "      <td>22.0</td>\n",
       "      <td>7.2500</td>\n",
       "      <td>3</td>\n",
       "    </tr>\n",
       "    <tr>\n",
       "      <th>1</th>\n",
       "      <td>1</td>\n",
       "      <td>1</td>\n",
       "      <td>female</td>\n",
       "      <td>38.0</td>\n",
       "      <td>71.2833</td>\n",
       "      <td>1</td>\n",
       "    </tr>\n",
       "    <tr>\n",
       "      <th>2</th>\n",
       "      <td>1</td>\n",
       "      <td>3</td>\n",
       "      <td>female</td>\n",
       "      <td>26.0</td>\n",
       "      <td>7.9250</td>\n",
       "      <td>3</td>\n",
       "    </tr>\n",
       "    <tr>\n",
       "      <th>3</th>\n",
       "      <td>1</td>\n",
       "      <td>1</td>\n",
       "      <td>female</td>\n",
       "      <td>35.0</td>\n",
       "      <td>53.1000</td>\n",
       "      <td>3</td>\n",
       "    </tr>\n",
       "    <tr>\n",
       "      <th>4</th>\n",
       "      <td>0</td>\n",
       "      <td>3</td>\n",
       "      <td>Male</td>\n",
       "      <td>35.0</td>\n",
       "      <td>8.0500</td>\n",
       "      <td>3</td>\n",
       "    </tr>\n",
       "  </tbody>\n",
       "</table>\n",
       "</div>"
      ],
      "text/plain": [
       "   Survived  Pclass     Sex   Age     Fare  Embarked\n",
       "0         0       3    Male  22.0   7.2500         3\n",
       "1         1       1  female  38.0  71.2833         1\n",
       "2         1       3  female  26.0   7.9250         3\n",
       "3         1       1  female  35.0  53.1000         3\n",
       "4         0       3    Male  35.0   8.0500         3"
      ]
     },
     "execution_count": 35,
     "metadata": {},
     "output_type": "execute_result"
    }
   ],
   "source": [
    "df.head()"
   ]
  },
  {
   "cell_type": "code",
   "execution_count": 36,
   "id": "1e40fc6c-fa5b-4163-a367-f355435b7770",
   "metadata": {},
   "outputs": [],
   "source": [
    "## Encode categorical variables\n",
    "df['Sex']=df['Sex'].map({'Male':0,'Female':1})\n",
    "df['Embarked']=df['Embarked'].map({'C':0,'Q':1,'S':2})"
   ]
  },
  {
   "cell_type": "code",
   "execution_count": 37,
   "id": "39418081-8f07-4cc9-a533-8d8116fa361f",
   "metadata": {},
   "outputs": [],
   "source": [
    "## Define feature and target\n",
    "X=df.drop('Survived',axis=1)      ## Drop \"Survived\" from input features, so that it can be used as target value(Output)\n",
    "y=df['Survived']\n",
    "\n",
    "from sklearn.model_selection import train_test_split\n",
    "# Split dataset\n",
    "X_train, X_test, y_train, y_test = train_test_split(X, y, test_size=0.2, random_state=42)"
   ]
  },
  {
   "cell_type": "markdown",
   "id": "0657a79d-8317-4d94-9dad-28038c839af1",
   "metadata": {},
   "source": [
    "## Gini Impurity:-it helps in deciding how to split the data at each node 🤔😲"
   ]
  },
  {
   "cell_type": "code",
   "execution_count": 38,
   "id": "ea41844c-e22a-46ed-bd8a-6d0e73582435",
   "metadata": {},
   "outputs": [],
   "source": [
    "##1. Gini Impurity\n",
    "def gini(y):\n",
    "    classes = np.unique(y)\n",
    "    impurity = 1\n",
    "    for cls in classes:\n",
    "        p = np.sum(y == cls) / len(y)\n",
    "        impurity -= p ** 2\n",
    "    return impurity"
   ]
  },
  {
   "cell_type": "markdown",
   "id": "e23eba1b-acef-4981-b4f3-02f72f30ab0c",
   "metadata": {},
   "source": [
    "## Let's split the dataset according to the threshold(used to create the split in the feature at each node) ⛳"
   ]
  },
  {
   "cell_type": "code",
   "execution_count": 39,
   "id": "87934636-93ad-4dcc-b3c7-18a69392a420",
   "metadata": {},
   "outputs": [],
   "source": [
    "## 2.Split the dataset\n",
    "def split_dataset(X, y, feature_index, threshold):\n",
    "    left_mask = X.iloc[:, feature_index] <= threshold\n",
    "    right_mask = X.iloc[:, feature_index] > threshold\n",
    "    return X[left_mask], y[left_mask], X[right_mask], y[right_mask]"
   ]
  },
  {
   "cell_type": "markdown",
   "id": "fd156fee-0cf4-4f42-afc6-644f4fa4a654",
   "metadata": {},
   "source": [
    "## Now we will iterate through each feature and samples of each feature to find the most \"informative feature\" and the most \"appropriate thresold\" 🏃"
   ]
  },
  {
   "cell_type": "code",
   "execution_count": 40,
   "id": "146c4b03-05a6-4fd5-8433-f8051cff27f7",
   "metadata": {},
   "outputs": [],
   "source": [
    "##3.Find best split\n",
    "def best_split(X, y):\n",
    "    m, n = X.shape\n",
    "    best_gain = 0\n",
    "    best_index, best_thresh = None, None\n",
    "    parent_impurity = gini(y)\n",
    "\n",
    "    for feature_index in range(n):\n",
    "        thresholds = X.iloc[:, feature_index].unique()\n",
    "        for threshold in thresholds:\n",
    "            _, y_left, _, y_right = split_dataset(X, y, feature_index, threshold)\n",
    "            if len(y_left) == 0 or len(y_right) == 0:\n",
    "                continue\n",
    "\n",
    "            p = len(y_left) / len(y)\n",
    "            gain = parent_impurity - (p * gini(y_left) + (1 - p) * gini(y_right))\n",
    "\n",
    "            if gain > best_gain:\n",
    "                best_gain = gain\n",
    "                best_index = feature_index\n",
    "                best_thresh = threshold\n",
    "\n",
    "    return best_index, best_thresh"
   ]
  },
  {
   "cell_type": "markdown",
   "id": "dff0acdc-7f5d-4ff5-8edc-330ca00cfda1",
   "metadata": {},
   "source": [
    "## Now we will build the tree according to the calculated Gini \"Impurity\" , \"threshold\" and \"Information gain\" 🏃"
   ]
  },
  {
   "cell_type": "code",
   "execution_count": 41,
   "id": "275b02ec-17e3-40df-afba-8d2ead91134f",
   "metadata": {},
   "outputs": [],
   "source": [
    "##4.Build the tree (Recursion)\n",
    "class Node:\n",
    "    def __init__(self, feature=None, threshold=None, left=None, right=None, value=None):\n",
    "        self.feature = feature\n",
    "        self.threshold = threshold\n",
    "        self.left = left\n",
    "        self.right = right\n",
    "        self.value = value  # Leaf value (class)\n",
    "\n",
    "def build_tree(X, y, depth=0, max_depth=3):\n",
    "    num_samples_per_class = [np.sum(y == i) for i in np.unique(y)]\n",
    "    predicted_class = np.argmax(num_samples_per_class)\n",
    "\n",
    "    # Stop if pure or max depth\n",
    "    if len(np.unique(y)) == 1 or depth == max_depth:\n",
    "        return Node(value=predicted_class)\n",
    "\n",
    "    feature_idx, threshold = best_split(X, y)\n",
    "    if feature_idx is None:\n",
    "        return Node(value=predicted_class)\n",
    "\n",
    "    X_left, y_left, X_right, y_right = split_dataset(X, y, feature_idx, threshold)\n",
    "\n",
    "    left_child = build_tree(X_left, y_left, depth + 1, max_depth)\n",
    "    right_child = build_tree(X_right, y_right, depth + 1, max_depth)\n",
    "    return Node(feature_idx, threshold, left_child, right_child)"
   ]
  },
  {
   "cell_type": "code",
   "execution_count": 42,
   "id": "2f8c465f-222f-44fe-9e3c-6106269fb5b4",
   "metadata": {},
   "outputs": [],
   "source": [
    "##5.Predictiion\n",
    "def predict_tree(X, tree):\n",
    "    if tree.value is not None:\n",
    "        return tree.value\n",
    "    if X[tree.feature] <= tree.threshold:\n",
    "        return predict_tree(X, tree.left)\n",
    "    else:\n",
    "        return predict_tree(X, tree.right)\n",
    "\n",
    "def predict(X, tree):\n",
    "    return np.array([predict_tree(X, tree) for X in X.values])"
   ]
  },
  {
   "cell_type": "code",
   "execution_count": 43,
   "id": "bb745ac7-a14b-440d-a385-59073a3eb121",
   "metadata": {},
   "outputs": [
    {
     "name": "stdout",
     "output_type": "stream",
     "text": [
      "Accuracy: 0.6685393258426966\n"
     ]
    }
   ],
   "source": [
    "## Now evaluate on titanic dataset\n",
    "tree = build_tree(X_train, y_train, max_depth=3)\n",
    "y_pred = predict(X_test, tree)\n",
    "\n",
    "# Accuracy\n",
    "acc = np.mean(y_pred == y_test)\n",
    "print(\"Accuracy:\", acc)"
   ]
  },
  {
   "cell_type": "code",
   "execution_count": 44,
   "id": "bdf62258-6d5f-442a-a154-a14d81cbb2f7",
   "metadata": {},
   "outputs": [],
   "source": [
    "## Hence , the accuracy of our model is 66.85%"
   ]
  },
  {
   "cell_type": "markdown",
   "id": "0732e08e-30f3-4e74-8176-dd24bb917d01",
   "metadata": {},
   "source": [
    "## Now let's implement \"Confusion Metrics\" in our \"decision Tree Model\" 👍"
   ]
  },
  {
   "cell_type": "code",
   "execution_count": 45,
   "id": "bdc78dc7-6b4e-4009-80f7-a18ede9d3dde",
   "metadata": {},
   "outputs": [],
   "source": [
    "#NOTE:- we apply confusion metrics because it's crucial for understanding and improving the model performance (Especially when dealing with \"Imbalanced Data\") 😲 🫡"
   ]
  },
  {
   "cell_type": "code",
   "execution_count": 46,
   "id": "f5c5732a-e2f6-4aaa-9bd6-1c5cd74b8c27",
   "metadata": {},
   "outputs": [
    {
     "name": "stdout",
     "output_type": "stream",
     "text": [
      "Accuracy: 0.6685393258426966\n",
      "              precision    recall  f1-score   support\n",
      "\n",
      "           0       0.70      0.81      0.75       109\n",
      "           1       0.60      0.45      0.51        69\n",
      "\n",
      "    accuracy                           0.67       178\n",
      "   macro avg       0.65      0.63      0.63       178\n",
      "weighted avg       0.66      0.67      0.66       178\n",
      "\n"
     ]
    }
   ],
   "source": [
    "from sklearn.model_selection import train_test_split\n",
    "from sklearn.metrics import accuracy_score, classification_report\n",
    "\n",
    "\n",
    "# Split data\n",
    "X_train, X_test, y_train, y_test = train_test_split(X, y, test_size=0.2, random_state=42)\n",
    "\n",
    "# Build tree\n",
    "tree_root = build_tree(X_train, y_train, max_depth=3)\n",
    "\n",
    "# Predictions\n",
    "y_pred = predict(X_test, tree_root)\n",
    "\n",
    "# Evaluate\n",
    "print(\"Accuracy:\", accuracy_score(y_test, y_pred))\n",
    "print(classification_report(y_test, y_pred))"
   ]
  },
  {
   "cell_type": "markdown",
   "id": "4d1a0d0f-ffbe-48b7-a724-db54771dc064",
   "metadata": {},
   "source": [
    "## Some important points about Decision Tree to keep in mind 🧠:-\n",
    "#1: Gini Impurity hepls in reducing the randomness or impurity of the datas🤔  ⏭️\n",
    "#2: Gini Impurity ranges from 0 to 0.5👍  ⏭️\n",
    "#3: Lesser the Gini Impurity⬇️⬇️ - Lesser the randomness⬇️⬇️ - More the data belong to its class⬆️⬆️😲  ⏭️\n",
    "#3: More the Gini Impurity⬆️⬆️ - More the randomness⬆️⬆️ - Less the data belong to its class⬇️⬇️😲  ⏭️\n",
    "#4: Threshold hepls in dividing the datas into two nodes(classes): (1) Class having the values less than or equal to threshold. (2) Class having values greater than the threshold🏷️👌  ⏭️\n",
    "#5: We should take the appropriate threshold to maintain balance between the two classes🫡  ⏭️\n",
    "#6: Information Gain hepls in picking up the most relevant and important feature to split the dataset at each node  ⏭️\n",
    "#7: Feature having the higher information gain is given priority to spli the datset  ⏭️"
   ]
  },
  {
   "cell_type": "code",
   "execution_count": null,
   "id": "89e21074-f008-4a42-9174-1ce425dd8d9f",
   "metadata": {},
   "outputs": [],
   "source": []
  }
 ],
 "metadata": {
  "kernelspec": {
   "display_name": "Python 3 (ipykernel)",
   "language": "python",
   "name": "python3"
  },
  "language_info": {
   "codemirror_mode": {
    "name": "ipython",
    "version": 3
   },
   "file_extension": ".py",
   "mimetype": "text/x-python",
   "name": "python",
   "nbconvert_exporter": "python",
   "pygments_lexer": "ipython3",
   "version": "3.13.4"
  }
 },
 "nbformat": 4,
 "nbformat_minor": 5
}
